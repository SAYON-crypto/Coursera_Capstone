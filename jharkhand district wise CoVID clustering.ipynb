{
 "cells": [
  {
   "cell_type": "markdown",
   "metadata": {},
   "source": [
    "# Safest district in Jharkhand :"
   ]
  },
  {
   "cell_type": "markdown",
   "metadata": {},
   "source": [
    "## Introduction:"
   ]
  },
  {
   "cell_type": "markdown",
   "metadata": {},
   "source": [
    "The whole world is fighting against the __CoVID-19__ pandemic, and in these tough times data analytics is playing a great role in better understanding the situation as to how to tackle it and is even promoting in finding a cure. \n",
    "\n",
    "So, I also thought of using the knowledge of data analytics that I have gained so far in making a project that focuses on the CoVID scenario of a state in __*India*__ in which I live i.e. '__JHARKHAND__'. \n",
    "\n",
    "This project aims to find out the __safest district__ to live among all the districts in the state, if you are in any case coming to __Jharkhand__, based on a variety of features and demographics."
   ]
  },
  {
   "cell_type": "markdown",
   "metadata": {},
   "source": [
    "## Data used:"
   ]
  },
  {
   "cell_type": "markdown",
   "metadata": {},
   "source": [
    "there are various sources from which I gathered the required features. \n",
    "They include:\n",
    "* __https://covidindia.org/jharkhand/__  *(for the no. of active case, deaths, total cases, etc...)*\n",
    "* __https://www.nhm.gov.in/images/pdf/communitisation/rogi-kalyan-samiti/jharkhand_rks.pdf__  *(to get the no. of hospital manging societies in each district)*\n",
    "* __geocoding from geocodefarm server.__  *(to get the latitude and longitude for each district)*"
   ]
  },
  {
   "cell_type": "markdown",
   "metadata": {},
   "source": [
    "### - Importing libraries:"
   ]
  },
  {
   "cell_type": "code",
   "execution_count": 214,
   "metadata": {},
   "outputs": [],
   "source": [
    "import numpy as np\n",
    "import pandas as pd\n",
    "from bs4 import BeautifulSoup\n",
    "import folium\n",
    "import requests as req\n",
    "import geocoder"
   ]
  },
  {
   "cell_type": "markdown",
   "metadata": {},
   "source": [
    "### - Using beautifulSoup library to web scrape the necessary data: "
   ]
  },
  {
   "cell_type": "code",
   "execution_count": 147,
   "metadata": {},
   "outputs": [],
   "source": [
    "data= req.get('https://covidindia.org/jharkhand/')\n",
    "data= data.content\n",
    "soup= BeautifulSoup(data)"
   ]
  },
  {
   "cell_type": "code",
   "execution_count": 148,
   "metadata": {},
   "outputs": [
    {
     "name": "stdout",
     "output_type": "stream",
     "text": [
      "24\n",
      "24\n",
      "24\n",
      "24\n",
      "24\n"
     ]
    }
   ],
   "source": [
    "dist= []\n",
    "tot_cases= []\n",
    "recov= []\n",
    "deaths= []\n",
    "active= []\n",
    "lis= [dist,tot_cases,recov,deaths,active]\n",
    "\n",
    "for i,val in enumerate(lis):\n",
    "    for d in soup.find_all('td', attrs= {'class':'column-{}'.format(i+1)}):\n",
    "        val.append(d.text)\n",
    "\n",
    "lis[1]= lis[1][0:25]\n",
    "lis[0]= lis[0][0:25]\n",
    "\n",
    "for i in [0,1,2,3,4]:\n",
    "    lis[i]= lis[i][:-1]\n",
    "\n",
    "for i in range(0,5):\n",
    "    print(len(lis[i]))"
   ]
  },
  {
   "cell_type": "markdown",
   "metadata": {},
   "source": [
    "### - Creating a dataframe to tabulate all the scraped data:"
   ]
  },
  {
   "cell_type": "code",
   "execution_count": 151,
   "metadata": {},
   "outputs": [
    {
     "data": {
      "text/plain": [
       "district       object\n",
       "total_cases     int64\n",
       "recovered       int64\n",
       "deaths          int64\n",
       "active          int64\n",
       "dtype: object"
      ]
     },
     "execution_count": 151,
     "metadata": {},
     "output_type": "execute_result"
    }
   ],
   "source": [
    "columns= ['district','total_cases','recovered','deaths','active']\n",
    "data= pd.DataFrame(columns= columns)\n",
    "\n",
    "for i,val in enumerate(columns):\n",
    "    try:\n",
    "        data[val]= pd.to_numeric(lis[i]) #converting the text to numeric type\n",
    "    except:\n",
    "        data[val]= lis[i]\n",
    "\n",
    "data.dtypes"
   ]
  },
  {
   "cell_type": "code",
   "execution_count": 152,
   "metadata": {},
   "outputs": [],
   "source": [
    "data['no_of_hospital_managing_societies']= [27,8,14,44,32,16,10,28,1,16,2,10,0,7,13,15,7,24,0,49,5,16,16,16] #the no. of hospital managing societies in each district"
   ]
  },
  {
   "cell_type": "markdown",
   "metadata": {},
   "source": [
    "### - Using the geocoding API to retrieve the co-ordinates of each district and tabulating it:"
   ]
  },
  {
   "cell_type": "code",
   "execution_count": 171,
   "metadata": {},
   "outputs": [],
   "source": [
    "lat= []\n",
    "lng= []\n",
    "\n",
    "for district in data.district:\n",
    "    latlng= geocoder.geocodefarm('{},jharkhand,India'.format(district)).latlng\n",
    "    lat.append(latlng[0])\n",
    "    lng.append(latlng[1])\n",
    "    \n",
    "data['lat']= lat\n",
    "data['lng']= lng"
   ]
  },
  {
   "cell_type": "code",
   "execution_count": 170,
   "metadata": {},
   "outputs": [],
   "source": [
    "data['death_per_recovery']= (data['deaths']/data['recovered'])*100 #calculates the no. of deaths for each recovery\n",
    "\n",
    "for i in range(0,len(data)):\n",
    "    data.loc[i,'recovered']= int((data.loc[i,'recovered']/data.loc[i,'total_cases'])*100) #recovered %\n",
    "    data.loc[i,'deaths']= int((data.loc[i,'deaths']/data.loc[i,'total_cases'])*100) #death %\n",
    "    data.loc[i,'active']= int((data.loc[i,'active']/data.loc[i,'total_cases'])*100) #active cases %\n",
    "    data.loc[i,'total_cases']= int((data.loc[i,'total_cases']/data.total_cases.sum())*100) #cases in ech district relative to total cases %  \n",
    "    data.loc[i,'no_of_hospital_managing_societies']= (data.loc[i,'no_of_hospital_managing_societies']/data.loc[i,'active'])*100 #no. of hospital management societies per active patient"
   ]
  },
  {
   "cell_type": "code",
   "execution_count": 156,
   "metadata": {},
   "outputs": [],
   "source": [
    "# renaming some columns\n",
    "for i,val in enumerate(data.columns[1:6].values):\n",
    "    if i==4:\n",
    "        data.rename(columns={val:val+'_per_active_cases'},inplace= True)\n",
    "    elif i==0:\n",
    "        data.rename(columns={val:val+'_%of_total_cases_in_jharkhand'},inplace= True)\n",
    "    else:\n",
    "        data.rename(columns={val:val+'_%of_total_cases_per_district'},inplace= True)"
   ]
  },
  {
   "cell_type": "code",
   "execution_count": 227,
   "metadata": {},
   "outputs": [],
   "source": [
    "data= pd.read_csv('covid_jharkhand.csv') #reading the backup final csv file\n",
    "data.drop(['Unnamed: 0'],axis= 1,inplace= True)"
   ]
  },
  {
   "cell_type": "code",
   "execution_count": 229,
   "metadata": {},
   "outputs": [
    {
     "data": {
      "text/plain": [
       "(24, 9)"
      ]
     },
     "execution_count": 229,
     "metadata": {},
     "output_type": "execute_result"
    }
   ],
   "source": [
    "data.shape"
   ]
  },
  {
   "cell_type": "code",
   "execution_count": 228,
   "metadata": {},
   "outputs": [
    {
     "data": {
      "text/html": [
       "<div>\n",
       "<style scoped>\n",
       "    .dataframe tbody tr th:only-of-type {\n",
       "        vertical-align: middle;\n",
       "    }\n",
       "\n",
       "    .dataframe tbody tr th {\n",
       "        vertical-align: top;\n",
       "    }\n",
       "\n",
       "    .dataframe thead th {\n",
       "        text-align: right;\n",
       "    }\n",
       "</style>\n",
       "<table border=\"1\" class=\"dataframe\">\n",
       "  <thead>\n",
       "    <tr style=\"text-align: right;\">\n",
       "      <th></th>\n",
       "      <th>district</th>\n",
       "      <th>total_cases_%of_total_cases_in_jharkhand</th>\n",
       "      <th>recovered_%of_total_cases_per_district</th>\n",
       "      <th>deaths_%of_total_cases_per_district</th>\n",
       "      <th>active_%of_total_cases_per_district</th>\n",
       "      <th>no_of_hospital_managing_societies_per_active_cases</th>\n",
       "      <th>death_per_recovery</th>\n",
       "      <th>lat</th>\n",
       "      <th>lng</th>\n",
       "    </tr>\n",
       "  </thead>\n",
       "  <tbody>\n",
       "    <tr>\n",
       "      <th>0</th>\n",
       "      <td>Bokaro</td>\n",
       "      <td>1</td>\n",
       "      <td>55</td>\n",
       "      <td>1</td>\n",
       "      <td>43</td>\n",
       "      <td>62.790698</td>\n",
       "      <td>1.818182</td>\n",
       "      <td>23.779985</td>\n",
       "      <td>85.969322</td>\n",
       "    </tr>\n",
       "    <tr>\n",
       "      <th>1</th>\n",
       "      <td>Chatra</td>\n",
       "      <td>3</td>\n",
       "      <td>60</td>\n",
       "      <td>0</td>\n",
       "      <td>39</td>\n",
       "      <td>20.512821</td>\n",
       "      <td>0.000000</td>\n",
       "      <td>24.206200</td>\n",
       "      <td>84.871300</td>\n",
       "    </tr>\n",
       "    <tr>\n",
       "      <th>2</th>\n",
       "      <td>Deoghar</td>\n",
       "      <td>1</td>\n",
       "      <td>49</td>\n",
       "      <td>0</td>\n",
       "      <td>50</td>\n",
       "      <td>28.000000</td>\n",
       "      <td>0.000000</td>\n",
       "      <td>24.491533</td>\n",
       "      <td>86.691254</td>\n",
       "    </tr>\n",
       "    <tr>\n",
       "      <th>3</th>\n",
       "      <td>Dhanbad</td>\n",
       "      <td>6</td>\n",
       "      <td>38</td>\n",
       "      <td>2</td>\n",
       "      <td>59</td>\n",
       "      <td>74.576271</td>\n",
       "      <td>5.263158</td>\n",
       "      <td>23.794043</td>\n",
       "      <td>86.426170</td>\n",
       "    </tr>\n",
       "    <tr>\n",
       "      <th>4</th>\n",
       "      <td>Dumka</td>\n",
       "      <td>0</td>\n",
       "      <td>69</td>\n",
       "      <td>0</td>\n",
       "      <td>30</td>\n",
       "      <td>106.666667</td>\n",
       "      <td>0.000000</td>\n",
       "      <td>24.265244</td>\n",
       "      <td>87.250191</td>\n",
       "    </tr>\n",
       "  </tbody>\n",
       "</table>\n",
       "</div>"
      ],
      "text/plain": [
       "  district  total_cases_%of_total_cases_in_jharkhand  \\\n",
       "0   Bokaro                                         1   \n",
       "1   Chatra                                         3   \n",
       "2  Deoghar                                         1   \n",
       "3  Dhanbad                                         6   \n",
       "4    Dumka                                         0   \n",
       "\n",
       "   recovered_%of_total_cases_per_district  \\\n",
       "0                                      55   \n",
       "1                                      60   \n",
       "2                                      49   \n",
       "3                                      38   \n",
       "4                                      69   \n",
       "\n",
       "   deaths_%of_total_cases_per_district  active_%of_total_cases_per_district  \\\n",
       "0                                    1                                   43   \n",
       "1                                    0                                   39   \n",
       "2                                    0                                   50   \n",
       "3                                    2                                   59   \n",
       "4                                    0                                   30   \n",
       "\n",
       "   no_of_hospital_managing_societies_per_active_cases  death_per_recovery  \\\n",
       "0                                          62.790698             1.818182   \n",
       "1                                          20.512821             0.000000   \n",
       "2                                          28.000000             0.000000   \n",
       "3                                          74.576271             5.263158   \n",
       "4                                         106.666667             0.000000   \n",
       "\n",
       "         lat        lng  \n",
       "0  23.779985  85.969322  \n",
       "1  24.206200  84.871300  \n",
       "2  24.491533  86.691254  \n",
       "3  23.794043  86.426170  \n",
       "4  24.265244  87.250191  "
      ]
     },
     "execution_count": 228,
     "metadata": {},
     "output_type": "execute_result"
    }
   ],
   "source": [
    "data.head()"
   ]
  },
  {
   "cell_type": "markdown",
   "metadata": {},
   "source": [
    "your credentials are __here__\n",
    "<!--\n",
    "CLIENT_ID = 'VOSZ5IO22Y2MTUL5V5F55VWJW1GQSBKXVC5OQDN2C0LR0PUF' # your Foursquare ID\n",
    "CLIENT_SECRET = '2FB3FOFPLQQKRAVLZMGV5FPM2BIRVSO2GGZ3V2O5T4QNET3R' # your Foursquare Secret\n",
    "VERSION = '20180605' # Foursquare API version\n",
    "-->"
   ]
  },
  {
   "cell_type": "markdown",
   "metadata": {},
   "source": [
    "### - Using the Foursquare API to count the nearby commercial places available:\n",
    "*note: the server is down for several days in my region hence couldn't add its data so please grade accordingly*"
   ]
  },
  {
   "cell_type": "code",
   "execution_count": 217,
   "metadata": {},
   "outputs": [
    {
     "ename": "ConnectionError",
     "evalue": "HTTPSConnectionPool(host='api.foursquare.com', port=443): Max retries exceeded with url: /v2/venues/explore?&client_id=VOSZ5IO22Y2MTUL5V5F55VWJW1GQSBKXVC5OQDN2C0LR0PUF&client_secret=2FB3FOFPLQQKRAVLZMGV5FPM2BIRVSO2GGZ3V2O5T4QNET3R&v=20180605&ll=23.7799854278389,85.9693222041408&radius=500&limit=100 (Caused by NewConnectionError('<urllib3.connection.VerifiedHTTPSConnection object at 0x0000026996B92508>: Failed to establish a new connection: [WinError 10060] A connection attempt failed because the connected party did not properly respond after a period of time, or established connection failed because connected host has failed to respond'))",
     "output_type": "error",
     "traceback": [
      "\u001b[1;31m---------------------------------------------------------------------------\u001b[0m",
      "\u001b[1;31mTimeoutError\u001b[0m                              Traceback (most recent call last)",
      "\u001b[1;32m~\\Anaconda3\\lib\\site-packages\\urllib3\\connection.py\u001b[0m in \u001b[0;36m_new_conn\u001b[1;34m(self)\u001b[0m\n\u001b[0;32m    158\u001b[0m             conn = connection.create_connection(\n\u001b[1;32m--> 159\u001b[1;33m                 (self._dns_host, self.port), self.timeout, **extra_kw)\n\u001b[0m\u001b[0;32m    160\u001b[0m \u001b[1;33m\u001b[0m\u001b[0m\n",
      "\u001b[1;32m~\\Anaconda3\\lib\\site-packages\\urllib3\\util\\connection.py\u001b[0m in \u001b[0;36mcreate_connection\u001b[1;34m(address, timeout, source_address, socket_options)\u001b[0m\n\u001b[0;32m     79\u001b[0m     \u001b[1;32mif\u001b[0m \u001b[0merr\u001b[0m \u001b[1;32mis\u001b[0m \u001b[1;32mnot\u001b[0m \u001b[1;32mNone\u001b[0m\u001b[1;33m:\u001b[0m\u001b[1;33m\u001b[0m\u001b[1;33m\u001b[0m\u001b[0m\n\u001b[1;32m---> 80\u001b[1;33m         \u001b[1;32mraise\u001b[0m \u001b[0merr\u001b[0m\u001b[1;33m\u001b[0m\u001b[1;33m\u001b[0m\u001b[0m\n\u001b[0m\u001b[0;32m     81\u001b[0m \u001b[1;33m\u001b[0m\u001b[0m\n",
      "\u001b[1;32m~\\Anaconda3\\lib\\site-packages\\urllib3\\util\\connection.py\u001b[0m in \u001b[0;36mcreate_connection\u001b[1;34m(address, timeout, source_address, socket_options)\u001b[0m\n\u001b[0;32m     69\u001b[0m                 \u001b[0msock\u001b[0m\u001b[1;33m.\u001b[0m\u001b[0mbind\u001b[0m\u001b[1;33m(\u001b[0m\u001b[0msource_address\u001b[0m\u001b[1;33m)\u001b[0m\u001b[1;33m\u001b[0m\u001b[1;33m\u001b[0m\u001b[0m\n\u001b[1;32m---> 70\u001b[1;33m             \u001b[0msock\u001b[0m\u001b[1;33m.\u001b[0m\u001b[0mconnect\u001b[0m\u001b[1;33m(\u001b[0m\u001b[0msa\u001b[0m\u001b[1;33m)\u001b[0m\u001b[1;33m\u001b[0m\u001b[1;33m\u001b[0m\u001b[0m\n\u001b[0m\u001b[0;32m     71\u001b[0m             \u001b[1;32mreturn\u001b[0m \u001b[0msock\u001b[0m\u001b[1;33m\u001b[0m\u001b[1;33m\u001b[0m\u001b[0m\n",
      "\u001b[1;31mTimeoutError\u001b[0m: [WinError 10060] A connection attempt failed because the connected party did not properly respond after a period of time, or established connection failed because connected host has failed to respond",
      "\nDuring handling of the above exception, another exception occurred:\n",
      "\u001b[1;31mNewConnectionError\u001b[0m                        Traceback (most recent call last)",
      "\u001b[1;32m~\\Anaconda3\\lib\\site-packages\\urllib3\\connectionpool.py\u001b[0m in \u001b[0;36murlopen\u001b[1;34m(self, method, url, body, headers, retries, redirect, assert_same_host, timeout, pool_timeout, release_conn, chunked, body_pos, **response_kw)\u001b[0m\n\u001b[0;32m    599\u001b[0m                                                   \u001b[0mbody\u001b[0m\u001b[1;33m=\u001b[0m\u001b[0mbody\u001b[0m\u001b[1;33m,\u001b[0m \u001b[0mheaders\u001b[0m\u001b[1;33m=\u001b[0m\u001b[0mheaders\u001b[0m\u001b[1;33m,\u001b[0m\u001b[1;33m\u001b[0m\u001b[1;33m\u001b[0m\u001b[0m\n\u001b[1;32m--> 600\u001b[1;33m                                                   chunked=chunked)\n\u001b[0m\u001b[0;32m    601\u001b[0m \u001b[1;33m\u001b[0m\u001b[0m\n",
      "\u001b[1;32m~\\Anaconda3\\lib\\site-packages\\urllib3\\connectionpool.py\u001b[0m in \u001b[0;36m_make_request\u001b[1;34m(self, conn, method, url, timeout, chunked, **httplib_request_kw)\u001b[0m\n\u001b[0;32m    342\u001b[0m         \u001b[1;32mtry\u001b[0m\u001b[1;33m:\u001b[0m\u001b[1;33m\u001b[0m\u001b[1;33m\u001b[0m\u001b[0m\n\u001b[1;32m--> 343\u001b[1;33m             \u001b[0mself\u001b[0m\u001b[1;33m.\u001b[0m\u001b[0m_validate_conn\u001b[0m\u001b[1;33m(\u001b[0m\u001b[0mconn\u001b[0m\u001b[1;33m)\u001b[0m\u001b[1;33m\u001b[0m\u001b[1;33m\u001b[0m\u001b[0m\n\u001b[0m\u001b[0;32m    344\u001b[0m         \u001b[1;32mexcept\u001b[0m \u001b[1;33m(\u001b[0m\u001b[0mSocketTimeout\u001b[0m\u001b[1;33m,\u001b[0m \u001b[0mBaseSSLError\u001b[0m\u001b[1;33m)\u001b[0m \u001b[1;32mas\u001b[0m \u001b[0me\u001b[0m\u001b[1;33m:\u001b[0m\u001b[1;33m\u001b[0m\u001b[1;33m\u001b[0m\u001b[0m\n",
      "\u001b[1;32m~\\Anaconda3\\lib\\site-packages\\urllib3\\connectionpool.py\u001b[0m in \u001b[0;36m_validate_conn\u001b[1;34m(self, conn)\u001b[0m\n\u001b[0;32m    838\u001b[0m         \u001b[1;32mif\u001b[0m \u001b[1;32mnot\u001b[0m \u001b[0mgetattr\u001b[0m\u001b[1;33m(\u001b[0m\u001b[0mconn\u001b[0m\u001b[1;33m,\u001b[0m \u001b[1;34m'sock'\u001b[0m\u001b[1;33m,\u001b[0m \u001b[1;32mNone\u001b[0m\u001b[1;33m)\u001b[0m\u001b[1;33m:\u001b[0m  \u001b[1;31m# AppEngine might not have  `.sock`\u001b[0m\u001b[1;33m\u001b[0m\u001b[1;33m\u001b[0m\u001b[0m\n\u001b[1;32m--> 839\u001b[1;33m             \u001b[0mconn\u001b[0m\u001b[1;33m.\u001b[0m\u001b[0mconnect\u001b[0m\u001b[1;33m(\u001b[0m\u001b[1;33m)\u001b[0m\u001b[1;33m\u001b[0m\u001b[1;33m\u001b[0m\u001b[0m\n\u001b[0m\u001b[0;32m    840\u001b[0m \u001b[1;33m\u001b[0m\u001b[0m\n",
      "\u001b[1;32m~\\Anaconda3\\lib\\site-packages\\urllib3\\connection.py\u001b[0m in \u001b[0;36mconnect\u001b[1;34m(self)\u001b[0m\n\u001b[0;32m    300\u001b[0m         \u001b[1;31m# Add certificate verification\u001b[0m\u001b[1;33m\u001b[0m\u001b[1;33m\u001b[0m\u001b[1;33m\u001b[0m\u001b[0m\n\u001b[1;32m--> 301\u001b[1;33m         \u001b[0mconn\u001b[0m \u001b[1;33m=\u001b[0m \u001b[0mself\u001b[0m\u001b[1;33m.\u001b[0m\u001b[0m_new_conn\u001b[0m\u001b[1;33m(\u001b[0m\u001b[1;33m)\u001b[0m\u001b[1;33m\u001b[0m\u001b[1;33m\u001b[0m\u001b[0m\n\u001b[0m\u001b[0;32m    302\u001b[0m         \u001b[0mhostname\u001b[0m \u001b[1;33m=\u001b[0m \u001b[0mself\u001b[0m\u001b[1;33m.\u001b[0m\u001b[0mhost\u001b[0m\u001b[1;33m\u001b[0m\u001b[1;33m\u001b[0m\u001b[0m\n",
      "\u001b[1;32m~\\Anaconda3\\lib\\site-packages\\urllib3\\connection.py\u001b[0m in \u001b[0;36m_new_conn\u001b[1;34m(self)\u001b[0m\n\u001b[0;32m    167\u001b[0m             raise NewConnectionError(\n\u001b[1;32m--> 168\u001b[1;33m                 self, \"Failed to establish a new connection: %s\" % e)\n\u001b[0m\u001b[0;32m    169\u001b[0m \u001b[1;33m\u001b[0m\u001b[0m\n",
      "\u001b[1;31mNewConnectionError\u001b[0m: <urllib3.connection.VerifiedHTTPSConnection object at 0x0000026996B92508>: Failed to establish a new connection: [WinError 10060] A connection attempt failed because the connected party did not properly respond after a period of time, or established connection failed because connected host has failed to respond",
      "\nDuring handling of the above exception, another exception occurred:\n",
      "\u001b[1;31mMaxRetryError\u001b[0m                             Traceback (most recent call last)",
      "\u001b[1;32m~\\Anaconda3\\lib\\site-packages\\requests\\adapters.py\u001b[0m in \u001b[0;36msend\u001b[1;34m(self, request, stream, timeout, verify, cert, proxies)\u001b[0m\n\u001b[0;32m    448\u001b[0m                     \u001b[0mretries\u001b[0m\u001b[1;33m=\u001b[0m\u001b[0mself\u001b[0m\u001b[1;33m.\u001b[0m\u001b[0mmax_retries\u001b[0m\u001b[1;33m,\u001b[0m\u001b[1;33m\u001b[0m\u001b[1;33m\u001b[0m\u001b[0m\n\u001b[1;32m--> 449\u001b[1;33m                     \u001b[0mtimeout\u001b[0m\u001b[1;33m=\u001b[0m\u001b[0mtimeout\u001b[0m\u001b[1;33m\u001b[0m\u001b[1;33m\u001b[0m\u001b[0m\n\u001b[0m\u001b[0;32m    450\u001b[0m                 )\n",
      "\u001b[1;32m~\\Anaconda3\\lib\\site-packages\\urllib3\\connectionpool.py\u001b[0m in \u001b[0;36murlopen\u001b[1;34m(self, method, url, body, headers, retries, redirect, assert_same_host, timeout, pool_timeout, release_conn, chunked, body_pos, **response_kw)\u001b[0m\n\u001b[0;32m    637\u001b[0m             retries = retries.increment(method, url, error=e, _pool=self,\n\u001b[1;32m--> 638\u001b[1;33m                                         _stacktrace=sys.exc_info()[2])\n\u001b[0m\u001b[0;32m    639\u001b[0m             \u001b[0mretries\u001b[0m\u001b[1;33m.\u001b[0m\u001b[0msleep\u001b[0m\u001b[1;33m(\u001b[0m\u001b[1;33m)\u001b[0m\u001b[1;33m\u001b[0m\u001b[1;33m\u001b[0m\u001b[0m\n",
      "\u001b[1;32m~\\Anaconda3\\lib\\site-packages\\urllib3\\util\\retry.py\u001b[0m in \u001b[0;36mincrement\u001b[1;34m(self, method, url, response, error, _pool, _stacktrace)\u001b[0m\n\u001b[0;32m    398\u001b[0m         \u001b[1;32mif\u001b[0m \u001b[0mnew_retry\u001b[0m\u001b[1;33m.\u001b[0m\u001b[0mis_exhausted\u001b[0m\u001b[1;33m(\u001b[0m\u001b[1;33m)\u001b[0m\u001b[1;33m:\u001b[0m\u001b[1;33m\u001b[0m\u001b[1;33m\u001b[0m\u001b[0m\n\u001b[1;32m--> 399\u001b[1;33m             \u001b[1;32mraise\u001b[0m \u001b[0mMaxRetryError\u001b[0m\u001b[1;33m(\u001b[0m\u001b[0m_pool\u001b[0m\u001b[1;33m,\u001b[0m \u001b[0murl\u001b[0m\u001b[1;33m,\u001b[0m \u001b[0merror\u001b[0m \u001b[1;32mor\u001b[0m \u001b[0mResponseError\u001b[0m\u001b[1;33m(\u001b[0m\u001b[0mcause\u001b[0m\u001b[1;33m)\u001b[0m\u001b[1;33m)\u001b[0m\u001b[1;33m\u001b[0m\u001b[1;33m\u001b[0m\u001b[0m\n\u001b[0m\u001b[0;32m    400\u001b[0m \u001b[1;33m\u001b[0m\u001b[0m\n",
      "\u001b[1;31mMaxRetryError\u001b[0m: HTTPSConnectionPool(host='api.foursquare.com', port=443): Max retries exceeded with url: /v2/venues/explore?&client_id=VOSZ5IO22Y2MTUL5V5F55VWJW1GQSBKXVC5OQDN2C0LR0PUF&client_secret=2FB3FOFPLQQKRAVLZMGV5FPM2BIRVSO2GGZ3V2O5T4QNET3R&v=20180605&ll=23.7799854278389,85.9693222041408&radius=500&limit=100 (Caused by NewConnectionError('<urllib3.connection.VerifiedHTTPSConnection object at 0x0000026996B92508>: Failed to establish a new connection: [WinError 10060] A connection attempt failed because the connected party did not properly respond after a period of time, or established connection failed because connected host has failed to respond'))",
      "\nDuring handling of the above exception, another exception occurred:\n",
      "\u001b[1;31mConnectionError\u001b[0m                           Traceback (most recent call last)",
      "\u001b[1;32m<ipython-input-217-e845cc315a02>\u001b[0m in \u001b[0;36m<module>\u001b[1;34m\u001b[0m\n\u001b[0;32m     11\u001b[0m             100)\n\u001b[0;32m     12\u001b[0m \u001b[1;33m\u001b[0m\u001b[0m\n\u001b[1;32m---> 13\u001b[1;33m     \u001b[0mres\u001b[0m\u001b[1;33m=\u001b[0m \u001b[0mreq\u001b[0m\u001b[1;33m.\u001b[0m\u001b[0mget\u001b[0m\u001b[1;33m(\u001b[0m\u001b[0murl\u001b[0m\u001b[1;33m)\u001b[0m\u001b[1;33m.\u001b[0m\u001b[0mjson\u001b[0m\u001b[1;33m(\u001b[0m\u001b[1;33m)\u001b[0m\u001b[1;33m\u001b[0m\u001b[1;33m\u001b[0m\u001b[0m\n\u001b[0m\u001b[0;32m     14\u001b[0m \u001b[1;33m\u001b[0m\u001b[0m\n\u001b[0;32m     15\u001b[0m     \u001b[0mdat\u001b[0m\u001b[1;33m.\u001b[0m\u001b[0mappend\u001b[0m\u001b[1;33m(\u001b[0m\u001b[1;33m[\u001b[0m\u001b[1;33m(\u001b[0m\u001b[0mname\u001b[0m\u001b[1;33m,\u001b[0m\u001b[0mlat\u001b[0m\u001b[1;33m,\u001b[0m\u001b[0mlng\u001b[0m\u001b[1;33m,\u001b[0m\u001b[0mi\u001b[0m\u001b[1;33m[\u001b[0m\u001b[1;34m'venue'\u001b[0m\u001b[1;33m]\u001b[0m\u001b[1;33m[\u001b[0m\u001b[1;34m'name'\u001b[0m\u001b[1;33m]\u001b[0m\u001b[1;33m,\u001b[0m\u001b[0mi\u001b[0m\u001b[1;33m[\u001b[0m\u001b[1;34m'venue'\u001b[0m\u001b[1;33m]\u001b[0m\u001b[1;33m[\u001b[0m\u001b[1;34m'categories'\u001b[0m\u001b[1;33m]\u001b[0m\u001b[1;33m[\u001b[0m\u001b[1;36m0\u001b[0m\u001b[1;33m]\u001b[0m\u001b[1;33m[\u001b[0m\u001b[1;34m'name'\u001b[0m\u001b[1;33m]\u001b[0m\u001b[1;33m,\u001b[0m\u001b[0mi\u001b[0m\u001b[1;33m[\u001b[0m\u001b[1;34m'venue'\u001b[0m\u001b[1;33m]\u001b[0m\u001b[1;33m[\u001b[0m\u001b[1;34m'location'\u001b[0m\u001b[1;33m]\u001b[0m\u001b[1;33m[\u001b[0m\u001b[1;34m'lat'\u001b[0m\u001b[1;33m]\u001b[0m\u001b[1;33m,\u001b[0m\u001b[0mi\u001b[0m\u001b[1;33m[\u001b[0m\u001b[1;34m'venue'\u001b[0m\u001b[1;33m]\u001b[0m\u001b[1;33m[\u001b[0m\u001b[1;34m'location'\u001b[0m\u001b[1;33m]\u001b[0m\u001b[1;33m[\u001b[0m\u001b[1;34m'lng'\u001b[0m\u001b[1;33m]\u001b[0m\u001b[1;33m)\u001b[0m \u001b[1;32mfor\u001b[0m \u001b[0mi\u001b[0m \u001b[1;32min\u001b[0m \u001b[0mres\u001b[0m\u001b[1;33m[\u001b[0m\u001b[1;34m'response'\u001b[0m\u001b[1;33m]\u001b[0m\u001b[1;33m[\u001b[0m\u001b[1;34m'groups'\u001b[0m\u001b[1;33m]\u001b[0m\u001b[1;33m[\u001b[0m\u001b[1;36m0\u001b[0m\u001b[1;33m]\u001b[0m\u001b[1;33m[\u001b[0m\u001b[1;34m'items'\u001b[0m\u001b[1;33m]\u001b[0m\u001b[1;33m]\u001b[0m\u001b[1;33m)\u001b[0m\u001b[1;33m\u001b[0m\u001b[1;33m\u001b[0m\u001b[0m\n",
      "\u001b[1;32m~\\Anaconda3\\lib\\site-packages\\requests\\api.py\u001b[0m in \u001b[0;36mget\u001b[1;34m(url, params, **kwargs)\u001b[0m\n\u001b[0;32m     73\u001b[0m \u001b[1;33m\u001b[0m\u001b[0m\n\u001b[0;32m     74\u001b[0m     \u001b[0mkwargs\u001b[0m\u001b[1;33m.\u001b[0m\u001b[0msetdefault\u001b[0m\u001b[1;33m(\u001b[0m\u001b[1;34m'allow_redirects'\u001b[0m\u001b[1;33m,\u001b[0m \u001b[1;32mTrue\u001b[0m\u001b[1;33m)\u001b[0m\u001b[1;33m\u001b[0m\u001b[1;33m\u001b[0m\u001b[0m\n\u001b[1;32m---> 75\u001b[1;33m     \u001b[1;32mreturn\u001b[0m \u001b[0mrequest\u001b[0m\u001b[1;33m(\u001b[0m\u001b[1;34m'get'\u001b[0m\u001b[1;33m,\u001b[0m \u001b[0murl\u001b[0m\u001b[1;33m,\u001b[0m \u001b[0mparams\u001b[0m\u001b[1;33m=\u001b[0m\u001b[0mparams\u001b[0m\u001b[1;33m,\u001b[0m \u001b[1;33m**\u001b[0m\u001b[0mkwargs\u001b[0m\u001b[1;33m)\u001b[0m\u001b[1;33m\u001b[0m\u001b[1;33m\u001b[0m\u001b[0m\n\u001b[0m\u001b[0;32m     76\u001b[0m \u001b[1;33m\u001b[0m\u001b[0m\n\u001b[0;32m     77\u001b[0m \u001b[1;33m\u001b[0m\u001b[0m\n",
      "\u001b[1;32m~\\Anaconda3\\lib\\site-packages\\requests\\api.py\u001b[0m in \u001b[0;36mrequest\u001b[1;34m(method, url, **kwargs)\u001b[0m\n\u001b[0;32m     58\u001b[0m     \u001b[1;31m# cases, and look like a memory leak in others.\u001b[0m\u001b[1;33m\u001b[0m\u001b[1;33m\u001b[0m\u001b[1;33m\u001b[0m\u001b[0m\n\u001b[0;32m     59\u001b[0m     \u001b[1;32mwith\u001b[0m \u001b[0msessions\u001b[0m\u001b[1;33m.\u001b[0m\u001b[0mSession\u001b[0m\u001b[1;33m(\u001b[0m\u001b[1;33m)\u001b[0m \u001b[1;32mas\u001b[0m \u001b[0msession\u001b[0m\u001b[1;33m:\u001b[0m\u001b[1;33m\u001b[0m\u001b[1;33m\u001b[0m\u001b[0m\n\u001b[1;32m---> 60\u001b[1;33m         \u001b[1;32mreturn\u001b[0m \u001b[0msession\u001b[0m\u001b[1;33m.\u001b[0m\u001b[0mrequest\u001b[0m\u001b[1;33m(\u001b[0m\u001b[0mmethod\u001b[0m\u001b[1;33m=\u001b[0m\u001b[0mmethod\u001b[0m\u001b[1;33m,\u001b[0m \u001b[0murl\u001b[0m\u001b[1;33m=\u001b[0m\u001b[0murl\u001b[0m\u001b[1;33m,\u001b[0m \u001b[1;33m**\u001b[0m\u001b[0mkwargs\u001b[0m\u001b[1;33m)\u001b[0m\u001b[1;33m\u001b[0m\u001b[1;33m\u001b[0m\u001b[0m\n\u001b[0m\u001b[0;32m     61\u001b[0m \u001b[1;33m\u001b[0m\u001b[0m\n\u001b[0;32m     62\u001b[0m \u001b[1;33m\u001b[0m\u001b[0m\n",
      "\u001b[1;32m~\\Anaconda3\\lib\\site-packages\\requests\\sessions.py\u001b[0m in \u001b[0;36mrequest\u001b[1;34m(self, method, url, params, data, headers, cookies, files, auth, timeout, allow_redirects, proxies, hooks, stream, verify, cert, json)\u001b[0m\n\u001b[0;32m    531\u001b[0m         }\n\u001b[0;32m    532\u001b[0m         \u001b[0msend_kwargs\u001b[0m\u001b[1;33m.\u001b[0m\u001b[0mupdate\u001b[0m\u001b[1;33m(\u001b[0m\u001b[0msettings\u001b[0m\u001b[1;33m)\u001b[0m\u001b[1;33m\u001b[0m\u001b[1;33m\u001b[0m\u001b[0m\n\u001b[1;32m--> 533\u001b[1;33m         \u001b[0mresp\u001b[0m \u001b[1;33m=\u001b[0m \u001b[0mself\u001b[0m\u001b[1;33m.\u001b[0m\u001b[0msend\u001b[0m\u001b[1;33m(\u001b[0m\u001b[0mprep\u001b[0m\u001b[1;33m,\u001b[0m \u001b[1;33m**\u001b[0m\u001b[0msend_kwargs\u001b[0m\u001b[1;33m)\u001b[0m\u001b[1;33m\u001b[0m\u001b[1;33m\u001b[0m\u001b[0m\n\u001b[0m\u001b[0;32m    534\u001b[0m \u001b[1;33m\u001b[0m\u001b[0m\n\u001b[0;32m    535\u001b[0m         \u001b[1;32mreturn\u001b[0m \u001b[0mresp\u001b[0m\u001b[1;33m\u001b[0m\u001b[1;33m\u001b[0m\u001b[0m\n",
      "\u001b[1;32m~\\Anaconda3\\lib\\site-packages\\requests\\sessions.py\u001b[0m in \u001b[0;36msend\u001b[1;34m(self, request, **kwargs)\u001b[0m\n\u001b[0;32m    644\u001b[0m \u001b[1;33m\u001b[0m\u001b[0m\n\u001b[0;32m    645\u001b[0m         \u001b[1;31m# Send the request\u001b[0m\u001b[1;33m\u001b[0m\u001b[1;33m\u001b[0m\u001b[1;33m\u001b[0m\u001b[0m\n\u001b[1;32m--> 646\u001b[1;33m         \u001b[0mr\u001b[0m \u001b[1;33m=\u001b[0m \u001b[0madapter\u001b[0m\u001b[1;33m.\u001b[0m\u001b[0msend\u001b[0m\u001b[1;33m(\u001b[0m\u001b[0mrequest\u001b[0m\u001b[1;33m,\u001b[0m \u001b[1;33m**\u001b[0m\u001b[0mkwargs\u001b[0m\u001b[1;33m)\u001b[0m\u001b[1;33m\u001b[0m\u001b[1;33m\u001b[0m\u001b[0m\n\u001b[0m\u001b[0;32m    647\u001b[0m \u001b[1;33m\u001b[0m\u001b[0m\n\u001b[0;32m    648\u001b[0m         \u001b[1;31m# Total elapsed time of the request (approximately)\u001b[0m\u001b[1;33m\u001b[0m\u001b[1;33m\u001b[0m\u001b[1;33m\u001b[0m\u001b[0m\n",
      "\u001b[1;32m~\\Anaconda3\\lib\\site-packages\\requests\\adapters.py\u001b[0m in \u001b[0;36msend\u001b[1;34m(self, request, stream, timeout, verify, cert, proxies)\u001b[0m\n\u001b[0;32m    514\u001b[0m                 \u001b[1;32mraise\u001b[0m \u001b[0mSSLError\u001b[0m\u001b[1;33m(\u001b[0m\u001b[0me\u001b[0m\u001b[1;33m,\u001b[0m \u001b[0mrequest\u001b[0m\u001b[1;33m=\u001b[0m\u001b[0mrequest\u001b[0m\u001b[1;33m)\u001b[0m\u001b[1;33m\u001b[0m\u001b[1;33m\u001b[0m\u001b[0m\n\u001b[0;32m    515\u001b[0m \u001b[1;33m\u001b[0m\u001b[0m\n\u001b[1;32m--> 516\u001b[1;33m             \u001b[1;32mraise\u001b[0m \u001b[0mConnectionError\u001b[0m\u001b[1;33m(\u001b[0m\u001b[0me\u001b[0m\u001b[1;33m,\u001b[0m \u001b[0mrequest\u001b[0m\u001b[1;33m=\u001b[0m\u001b[0mrequest\u001b[0m\u001b[1;33m)\u001b[0m\u001b[1;33m\u001b[0m\u001b[1;33m\u001b[0m\u001b[0m\n\u001b[0m\u001b[0;32m    517\u001b[0m \u001b[1;33m\u001b[0m\u001b[0m\n\u001b[0;32m    518\u001b[0m         \u001b[1;32mexcept\u001b[0m \u001b[0mClosedPoolError\u001b[0m \u001b[1;32mas\u001b[0m \u001b[0me\u001b[0m\u001b[1;33m:\u001b[0m\u001b[1;33m\u001b[0m\u001b[1;33m\u001b[0m\u001b[0m\n",
      "\u001b[1;31mConnectionError\u001b[0m: HTTPSConnectionPool(host='api.foursquare.com', port=443): Max retries exceeded with url: /v2/venues/explore?&client_id=VOSZ5IO22Y2MTUL5V5F55VWJW1GQSBKXVC5OQDN2C0LR0PUF&client_secret=2FB3FOFPLQQKRAVLZMGV5FPM2BIRVSO2GGZ3V2O5T4QNET3R&v=20180605&ll=23.7799854278389,85.9693222041408&radius=500&limit=100 (Caused by NewConnectionError('<urllib3.connection.VerifiedHTTPSConnection object at 0x0000026996B92508>: Failed to establish a new connection: [WinError 10060] A connection attempt failed because the connected party did not properly respond after a period of time, or established connection failed because connected host has failed to respond'))"
     ]
    }
   ],
   "source": [
    "dat= []\n",
    "num= []\n",
    "for name,lat,lng in zip(data.district,data.lat,data.lng):\n",
    "    \n",
    "    url = 'https://api.foursquare.com/v2/venues/explore?&client_id={}&client_secret={}&v={}&ll={},{}&radius={}&limit={}'.format(\n",
    "            CLIENT_ID, \n",
    "            CLIENT_SECRET, \n",
    "            VERSION, \n",
    "            lat, \n",
    "            lng, \n",
    "            500, \n",
    "            100)\n",
    "    \n",
    "    res= req.get(url).json()\n",
    "    \n",
    "    dat.append([(name,lat,lng,i['venue']['name'],i['venue']['categories'][0]['name'],i['venue']['location']['lat'],i['venue']['location']['lng']) for i in res['response']['groups'][0]['items']])\n",
    "    num.append(len(dat))  #no. of commercial places available nearby"
   ]
  },
  {
   "cell_type": "markdown",
   "metadata": {},
   "source": [
    "### - Visualising the districts using folium:"
   ]
  },
  {
   "cell_type": "code",
   "execution_count": 176,
   "metadata": {},
   "outputs": [
    {
     "data": {
      "text/html": [
       "<div style=\"width:100%;\"><div style=\"position:relative;width:100%;height:0;padding-bottom:60%;\"><span style=\"color:#565656\">Make this Notebook Trusted to load map: File -> Trust Notebook</span><iframe src=\"about:blank\" style=\"position:absolute;width:100%;height:100%;left:0;top:0;border:none !important;\" data-html=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 onload=\"this.contentDocument.open();this.contentDocument.write(atob(this.getAttribute('data-html')));this.contentDocument.close();\" allowfullscreen webkitallowfullscreen mozallowfullscreen></iframe></div></div>"
      ],
      "text/plain": [
       "<folium.folium.Map at 0x26997013988>"
      ]
     },
     "execution_count": 176,
     "metadata": {},
     "output_type": "execute_result"
    }
   ],
   "source": [
    "jhar= folium.Map(location= [23.6102, 85.2799],zoom_start= 7, tiles= 'Stamen Terrain')\n",
    "\n",
    "for lat,lng,dist,rec,death,act in zip(data.lat, data.lng, data.district, data['recovered_%of_total_cases_per_district'], data['deaths_%of_total_cases_per_district'], data['active_%of_total_cases_per_district'] ):\n",
    "    \n",
    "    folium.Marker([lat,lng], popup= 'recovered%={} death%={} active%={}'.format(rec,death,act), tooltip= dist).add_to(jhar)\n",
    "\n",
    "jhar"
   ]
  },
  {
   "cell_type": "markdown",
   "metadata": {},
   "source": [
    "### - Model development:"
   ]
  },
  {
   "cell_type": "code",
   "execution_count": 112,
   "metadata": {},
   "outputs": [],
   "source": [
    "from sklearn.cluster import KMeans\n",
    "from sklearn.preprocessing import StandardScaler"
   ]
  },
  {
   "cell_type": "code",
   "execution_count": 199,
   "metadata": {},
   "outputs": [],
   "source": [
    "x_train= StandardScaler().fit_transform(data.iloc[:,1:7])"
   ]
  },
  {
   "cell_type": "code",
   "execution_count": 200,
   "metadata": {},
   "outputs": [
    {
     "data": {
      "text/plain": [
       "[<matplotlib.lines.Line2D at 0x26996d0bd08>]"
      ]
     },
     "execution_count": 200,
     "metadata": {},
     "output_type": "execute_result"
    },
    {
     "data": {
      "image/png": "[encoded data removed]",
      "text/plain": [
       "<Figure size 432x288 with 1 Axes>"
      ]
     },
     "metadata": {
      "needs_background": "light"
     },
     "output_type": "display_data"
    }
   ],
   "source": [
    "iner= []\n",
    "\n",
    "for i in range(1,20):\n",
    "    km= KMeans(n_clusters= i).fit(x_train)\n",
    "    iner.append(km.inertia_)\n",
    "\n",
    "import matplotlib.pyplot as plt\n",
    "%matplotlib inline\n",
    "\n",
    "plt.plot([i for i in range(1,20)],iner,'o--') # plotting the intertias to get the elbow point (in this case 3)"
   ]
  },
  {
   "cell_type": "code",
   "execution_count": 201,
   "metadata": {},
   "outputs": [],
   "source": [
    "km= KMeans(n_clusters= 3).fit(x_train)\n",
    "labels= km.labels_"
   ]
  },
  {
   "cell_type": "code",
   "execution_count": 230,
   "metadata": {},
   "outputs": [
    {
     "data": {
      "text/html": [
       "<div>\n",
       "<style scoped>\n",
       "    .dataframe tbody tr th:only-of-type {\n",
       "        vertical-align: middle;\n",
       "    }\n",
       "\n",
       "    .dataframe tbody tr th {\n",
       "        vertical-align: top;\n",
       "    }\n",
       "\n",
       "    .dataframe thead th {\n",
       "        text-align: right;\n",
       "    }\n",
       "</style>\n",
       "<table border=\"1\" class=\"dataframe\">\n",
       "  <thead>\n",
       "    <tr style=\"text-align: right;\">\n",
       "      <th></th>\n",
       "      <th>total_cases_%of_total_cases_in_jharkhand</th>\n",
       "      <th>recovered_%of_total_cases_per_district</th>\n",
       "      <th>deaths_%of_total_cases_per_district</th>\n",
       "      <th>active_%of_total_cases_per_district</th>\n",
       "      <th>no_of_hospital_managing_societies_per_active_cases</th>\n",
       "      <th>death_per_recovery</th>\n",
       "    </tr>\n",
       "    <tr>\n",
       "      <th>labels</th>\n",
       "      <th></th>\n",
       "      <th></th>\n",
       "      <th></th>\n",
       "      <th></th>\n",
       "      <th></th>\n",
       "      <th></th>\n",
       "    </tr>\n",
       "  </thead>\n",
       "  <tbody>\n",
       "    <tr>\n",
       "      <th>0</th>\n",
       "      <td>46.500</td>\n",
       "      <td>83.0000</td>\n",
       "      <td>0.0000</td>\n",
       "      <td>16.000000</td>\n",
       "      <td>146.285714</td>\n",
       "      <td>0.000000</td>\n",
       "    </tr>\n",
       "    <tr>\n",
       "      <th>1</th>\n",
       "      <td>19.500</td>\n",
       "      <td>26.0000</td>\n",
       "      <td>1.5000</td>\n",
       "      <td>71.333333</td>\n",
       "      <td>31.941766</td>\n",
       "      <td>6.659121</td>\n",
       "    </tr>\n",
       "    <tr>\n",
       "      <th>2</th>\n",
       "      <td>4.875</td>\n",
       "      <td>54.3125</td>\n",
       "      <td>0.3125</td>\n",
       "      <td>44.312500</td>\n",
       "      <td>31.772919</td>\n",
       "      <td>0.512010</td>\n",
       "    </tr>\n",
       "  </tbody>\n",
       "</table>\n",
       "</div>"
      ],
      "text/plain": [
       "        total_cases_%of_total_cases_in_jharkhand  \\\n",
       "labels                                             \n",
       "0                                         46.500   \n",
       "1                                         19.500   \n",
       "2                                          4.875   \n",
       "\n",
       "        recovered_%of_total_cases_per_district  \\\n",
       "labels                                           \n",
       "0                                      83.0000   \n",
       "1                                      26.0000   \n",
       "2                                      54.3125   \n",
       "\n",
       "        deaths_%of_total_cases_per_district  \\\n",
       "labels                                        \n",
       "0                                    0.0000   \n",
       "1                                    1.5000   \n",
       "2                                    0.3125   \n",
       "\n",
       "        active_%of_total_cases_per_district  \\\n",
       "labels                                        \n",
       "0                                 16.000000   \n",
       "1                                 71.333333   \n",
       "2                                 44.312500   \n",
       "\n",
       "        no_of_hospital_managing_societies_per_active_cases  death_per_recovery  \n",
       "labels                                                                          \n",
       "0                                              146.285714             0.000000  \n",
       "1                                               31.941766             6.659121  \n",
       "2                                               31.772919             0.512010  "
      ]
     },
     "execution_count": 230,
     "metadata": {},
     "output_type": "execute_result"
    }
   ],
   "source": [
    "x= data.iloc[:,1:7]\n",
    "\n",
    "x['labels']= labels\n",
    "\n",
    "x.groupby(['labels']).mean()"
   ]
  },
  {
   "cell_type": "markdown",
   "metadata": {},
   "source": [
    "we can infer the clusters to be indicative of:\n",
    "* __high recovery and low death/recovery__ (cluster 0) (safest)\n",
    "* __low recovery, high death% and death/recovery__ (cluster 1) (most unsafe)\n",
    "* __low total_case% and low death% but low hospital_societies/case and also greater active%_per_district__ (cluster 2) (considerable)"
   ]
  },
  {
   "cell_type": "markdown",
   "metadata": {},
   "source": [
    "### - Plotting the color coded districts according to their cluster label:"
   ]
  },
  {
   "cell_type": "code",
   "execution_count": 207,
   "metadata": {},
   "outputs": [],
   "source": [
    "data['labels']= labels"
   ]
  },
  {
   "cell_type": "code",
   "execution_count": 210,
   "metadata": {},
   "outputs": [
    {
     "data": {
      "text/html": [
       "<div style=\"width:100%;\"><div style=\"position:relative;width:100%;height:0;padding-bottom:60%;\"><span style=\"color:#565656\">Make this Notebook Trusted to load map: File -> Trust Notebook</span><iframe src=\"about:blank\" style=\"position:absolute;width:100%;height:100%;left:0;top:0;border:none !important;\" data-html=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 onload=\"this.contentDocument.open();this.contentDocument.write(atob(this.getAttribute('data-html')));this.contentDocument.close();\" allowfullscreen webkitallowfullscreen mozallowfullscreen></iframe></div></div>"
      ],
      "text/plain": [
       "<folium.folium.Map at 0x2698b75fa88>"
      ]
     },
     "execution_count": 210,
     "metadata": {},
     "output_type": "execute_result"
    }
   ],
   "source": [
    "col= ['green','red','orange'] #green: safest\n",
    "                              #red: most unsafe\n",
    "                              #orange: considerable\n",
    "\n",
    "jhar= folium.Map(location= [23.6102, 85.2799],zoom_start= 7, tiles= 'Stamen Terrain')\n",
    "\n",
    "for lat,lng,label,dist,rec,death,act in zip(data.lat, data.lng, data.labels, data.district, data['recovered_%of_total_cases_per_district'], data['deaths_%of_total_cases_per_district'], data['active_%of_total_cases_per_district'] ):\n",
    "    \n",
    "    folium.Marker([lat,lng], icon= folium.Icon(color= col[label]),popup= 'recovered%={} death%={} active%={}'.format(rec,death,act), tooltip= dist).add_to(jhar)\n",
    "\n",
    "jhar"
   ]
  },
  {
   "cell_type": "markdown",
   "metadata": {},
   "source": [
    "#### I hope you guys enjoyed going through the notebook !! \n",
    "*btw: I live in East Singhbhum district and its a red area :'(* "
   ]
  },
  {
   "cell_type": "code",
   "execution_count": null,
   "metadata": {},
   "outputs": [],
   "source": []
  }
 ],
 "metadata": {
  "kernelspec": {
   "display_name": "Python 3",
   "language": "python",
   "name": "python3"
  },
  "language_info": {
   "codemirror_mode": {
    "name": "ipython",
    "version": 3
   },
   "file_extension": ".py",
   "mimetype": "text/x-python",
   "name": "python",
   "nbconvert_exporter": "python",
   "pygments_lexer": "ipython3",
   "version": "3.7.4"
  }
 },
 "nbformat": 4,
 "nbformat_minor": 2
}
