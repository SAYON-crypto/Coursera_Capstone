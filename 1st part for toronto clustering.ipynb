{
 "cells": [
  {
   "cell_type": "markdown",
   "metadata": {},
   "source": [
    "## Segmenting and clustering Neighbourhoods of Toronto:"
   ]
  },
  {
   "cell_type": "markdown",
   "metadata": {},
   "source": [
    "#### importing necessary libraries"
   ]
  },
  {
   "cell_type": "code",
   "execution_count": 13,
   "metadata": {},
   "outputs": [],
   "source": [
    "import pandas as pd\n",
    "import numpy as np\n",
    "import folium\n",
    "from bs4 import BeautifulSoup  # for web-scraping\n",
    "import requests"
   ]
  },
  {
   "cell_type": "markdown",
   "metadata": {},
   "source": [
    "#### accessing html content and reading the text data"
   ]
  },
  {
   "cell_type": "code",
   "execution_count": 32,
   "metadata": {},
   "outputs": [],
   "source": [
    "data= requests.get('https://en.wikipedia.org/wiki/List_of_postal_codes_of_Canada:_M')\n",
    "data= data.content\n",
    "\n",
    "soup= BeautifulSoup(data)\n",
    "table= soup.find('table')\n",
    "tr= table.find_all('tr')\n",
    "\n",
    "row= []\n",
    "for tr in tr:\n",
    "    td= tr.find_all('td')\n",
    "    row.append([i.text for i in td])"
   ]
  },
  {
   "cell_type": "markdown",
   "metadata": {},
   "source": [
    "#### converting the data into the required dataframe and cleaning the data as required"
   ]
  },
  {
   "cell_type": "code",
   "execution_count": 131,
   "metadata": {},
   "outputs": [],
   "source": [
    "row[0]= ['Postal Code','Borough', \"Neighbourhood\"]\n",
    "\n",
    "df= pd.DataFrame(row)     # converting data to dataframe\n",
    "df.columns= df.loc[0].tolist()\n",
    "df= df.iloc[1:,:]\n",
    "\n",
    "df['Postal Code']= [i[:-1] for i in df['Postal Code']]\n",
    "df['Borough']= [i[:-1] for i in df['Borough']]\n",
    "df['Neighbourhood']= [i[:-1] for i in df['Neighbourhood']]\n",
    "\n",
    "df= df[df['Borough']!= 'Not assigned']  # removing any data entry that has a 'not assigned' borough\n",
    "\n",
    "df.reset_index(inplace= True,drop= True)\n",
    "\n",
    "for i in df.index:  \n",
    "    if df.iloc[i,2]== \"Not assigned\":     # replacing 'not assigned' neighbourhood values with that of the borough\n",
    "        df.iloc[i,2]= df.iloc[i,1]        "
   ]
  },
  {
   "cell_type": "code",
   "execution_count": 135,
   "metadata": {},
   "outputs": [
    {
     "name": "stdout",
     "output_type": "stream",
     "text": [
      "there are 103 no. of rows in the dataframe\n"
     ]
    }
   ],
   "source": [
    "print('there are {} no. of rows in the dataframe'.format(df.shape[0]))"
   ]
  },
  {
   "cell_type": "code",
   "execution_count": null,
   "metadata": {},
   "outputs": [],
   "source": []
  }
 ],
 "metadata": {
  "kernelspec": {
   "display_name": "Python 3",
   "language": "python",
   "name": "python3"
  },
  "language_info": {
   "codemirror_mode": {
    "name": "ipython",
    "version": 3
   },
   "file_extension": ".py",
   "mimetype": "text/x-python",
   "name": "python",
   "nbconvert_exporter": "python",
   "pygments_lexer": "ipython3",
   "version": "3.7.4"
  }
 },
 "nbformat": 4,
 "nbformat_minor": 2
}
